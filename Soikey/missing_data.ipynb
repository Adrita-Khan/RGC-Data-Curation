{
  "nbformat": 4,
  "nbformat_minor": 0,
  "metadata": {
    "colab": {
      "provenance": []
    },
    "kernelspec": {
      "name": "python3",
      "display_name": "Python 3"
    },
    "language_info": {
      "name": "python"
    }
  },
  "cells": [
    {
      "cell_type": "code",
      "source": [
        "import pandas as pd\n",
        "\n",
        "# Load the Excel file\n",
        "df = pd.read_excel(\"/content/Merged (WAT and NAT), Sasmal Catalog.xlsx\")  # Replace with your actual file name\n"
      ],
      "metadata": {
        "id": "4FkeydCHogza"
      },
      "execution_count": null,
      "outputs": []
    },
    {
      "cell_type": "code",
      "execution_count": null,
      "metadata": {
        "colab": {
          "base_uri": "https://localhost:8080/"
        },
        "id": "LXsIFZ62jqng",
        "outputId": "d115ba0f-725f-4346-aea0-47cfb555df42"
      },
      "outputs": [
        {
          "output_type": "stream",
          "name": "stdout",
          "text": [
            "Entries in FCG1 but not in FCG2:\n",
            "J0034+1140\n",
            "J0103+0041\n",
            "J0318-0810\n",
            "J0323-0814\n",
            "J0820+1642\n",
            "J0826+1531\n",
            "J0927+4109\n",
            "J1005+3000\n",
            "J1047-0059\n",
            "J1412+0043\n",
            "J1443-0111\n",
            "J1730+5923\n",
            "J2127+0042\n",
            "J2332-0744\n",
            "\n",
            "Entries in FCG2 but not in FCG1:\n"
          ]
        }
      ],
      "source": [
        "\n",
        "# Read columns as sets (drop NaNs if any)\n",
        "fcg1_values = set(df[\"FCG1\"].dropna().astype(str))\n",
        "fcg2_values = set(df[\"FCG2\"].dropna().astype(str))\n",
        "\n",
        "# Entries in FCG1 that are not in FCG2\n",
        "only_in_fcg1 = fcg1_values - fcg2_values\n",
        "\n",
        "# Entries in FCG2 that are not in FCG1\n",
        "only_in_fcg2 = fcg2_values - fcg1_values\n",
        "\n",
        "# Print results\n",
        "print(\"Entries in FCG1 but not in FCG2:\")\n",
        "for val in sorted(only_in_fcg1):\n",
        "    print(val)\n",
        "\n",
        "print(\"\\nEntries in FCG2 but not in FCG1:\")\n",
        "for val in sorted(only_in_fcg2):\n",
        "    print(val)\n"
      ]
    },
    {
      "cell_type": "code",
      "source": [
        "print(len(only_in_fcg1))\n",
        "print(len(only_in_fcg2))"
      ],
      "metadata": {
        "colab": {
          "base_uri": "https://localhost:8080/"
        },
        "id": "MjaxQXwykuWG",
        "outputId": "9d5ba9e3-49cc-4081-9297-ba5235037302"
      },
      "execution_count": null,
      "outputs": [
        {
          "output_type": "stream",
          "name": "stdout",
          "text": [
            "14\n",
            "0\n"
          ]
        }
      ]
    },
    {
      "cell_type": "code",
      "source": [
        "mismatched_rows = df[df[\"FCG1\"].astype(str).isin(only_in_fcg1)]\n",
        "print(mismatched_rows[[\"FCG1\", \"RA1\", \"Dec\"]])"
      ],
      "metadata": {
        "colab": {
          "base_uri": "https://localhost:8080/"
        },
        "id": "f8V-UL-7nRZt",
        "outputId": "80298c95-99f7-47d4-d431-7b24ac1f83ee"
      },
      "execution_count": null,
      "outputs": [
        {
          "output_type": "stream",
          "name": "stdout",
          "text": [
            "           FCG1          RA1          Dec\n",
            "9    J0034+1140  03 34 30.50  +11 40 40.9\n",
            "23   J0103+0041  01 03 29.65  +00 41 01.8\n",
            "48   J0318-0810  03 18 00.43  -08 10 20.5\n",
            "50   J0323-0814  03 23 04.96  -08 14 16.6\n",
            "115  J0820+1642  08 20 41.53  +16 42 30.2\n",
            "120  J0826+1531  08 26 23.62  +15 31 26.6\n",
            "186  J0927+4109  09 27 17.98  +41 09 21.8\n",
            "227  J1005+3000  10 05 00.53  +30 00 04.4\n",
            "275  J1047-0059  10 47 07.57  -00 59 20.9\n",
            "477  J1412+0043  14 12 20.57  +00 43 14.9\n",
            "512  J1443-0111  14 43 47.49  -01 11 36.9\n",
            "652  J1730+5923  17 30 43.60  +59 23 26.5\n",
            "662  J2127+0042  21 27 22.52  +00 42 57.7\n",
            "707  J2332-0744  23 32 06.89  -07 44 44.9\n"
          ]
        }
      ]
    },
    {
      "cell_type": "code",
      "source": [
        "\n",
        "mismatched_rows.to_excel(\"Missing.xlsx\", index=False)\n"
      ],
      "metadata": {
        "id": "1xtQOF2jo1kt"
      },
      "execution_count": null,
      "outputs": []
    }
  ]
}