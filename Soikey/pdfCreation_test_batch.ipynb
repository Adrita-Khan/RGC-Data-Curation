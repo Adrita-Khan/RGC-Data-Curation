{
  "nbformat": 4,
  "nbformat_minor": 0,
  "metadata": {
    "colab": {
      "provenance": []
    },
    "kernelspec": {
      "name": "python3",
      "display_name": "Python 3"
    },
    "language_info": {
      "name": "python"
    }
  },
  "cells": [
    {
      "cell_type": "code",
      "source": [
        "import numpy as np\n",
        "import matplotlib.pyplot as plt\n",
        "from matplotlib.backends.backend_pdf import PdfPages\n",
        "import gdown\n",
        "\n",
        "# RI values of test batch, copied from \"RGC-1-images-adrita-soikey.xlxs\"\n",
        "numbers = np.array([\n",
        "    10, 12, 18, 24, 32, 33, 34, 43, 44, 48, 49, 54, 91, 93, 122, 151, 168, 171,\n",
        "    184, 194, 197, 207, 215, 217, 230, 234, 260, 264, 265, 270, 273, 276, 291,\n",
        "    352, 355, 357, 390, 402, 409, 411, 416, 428, 447, 451, 454, 474, 476, 478,\n",
        "    480, 484, 493, 509, 514, 536, 541, 552, 555, 600, 602, 614, 625, 635, 668,\n",
        "    670, 680, 682, 694\n",
        "])"
      ],
      "metadata": {
        "id": "Owa2BYeMexbw"
      },
      "execution_count": null,
      "outputs": []
    },
    {
      "cell_type": "code",
      "source": [
        "data_url = \"https://drive.google.com/uc?id=1M0C3dn7_tewI-35YvH2vHdrN3ULHd0AM\"\n",
        "labels_url = \"https://drive.google.com/uc?id=1s7H1eXU9sjpuC0p-bB0Buhs8ldmFH2J3\"\n",
        "\n",
        "gdown.download(data_url, \"grad_cam.npy\", quiet=False)\n",
        "gdown.download(labels_url, \"labels_pred.npy\", quiet=False)\n",
        "\n",
        "images_data = np.load(\"grad_cam.npy\")\n",
        "labels_data = np.load(\"labels_pred.npy\")\n",
        "\n",
        "images = images_data[:, :, :, 0]\n",
        "heatmaps = images_data[:, :, :, 1]\n",
        "indices = labels_data[:, 0].astype(int)\n"
      ],
      "metadata": {
        "colab": {
          "base_uri": "https://localhost:8080/"
        },
        "id": "EWNunoN4ezjs",
        "outputId": "ff694408-55ea-4110-b42c-077e1931a869"
      },
      "execution_count": null,
      "outputs": [
        {
          "output_type": "stream",
          "name": "stderr",
          "text": [
            "Downloading...\n",
            "From: https://drive.google.com/uc?id=1M0C3dn7_tewI-35YvH2vHdrN3ULHd0AM\n",
            "To: /content/grad_cam.npy\n",
            "100%|██████████| 28.8M/28.8M [00:00<00:00, 66.2MB/s]\n",
            "Downloading...\n",
            "From: https://drive.google.com/uc?id=1s7H1eXU9sjpuC0p-bB0Buhs8ldmFH2J3\n",
            "To: /content/labels_pred.npy\n",
            "100%|██████████| 15.5k/15.5k [00:00<00:00, 21.6MB/s]\n"
          ]
        }
      ]
    },
    {
      "cell_type": "code",
      "source": [
        "def find_peak_coordinates(img):\n",
        "    return np.unravel_index(np.argmax(img), img.shape)\n"
      ],
      "metadata": {
        "id": "DEoB8ltSfURN"
      },
      "execution_count": null,
      "outputs": []
    },
    {
      "cell_type": "code",
      "execution_count": null,
      "metadata": {
        "colab": {
          "base_uri": "https://localhost:8080/"
        },
        "id": "zJv1RQBEeaAW",
        "outputId": "219ce062-5c63-45f1-ddec-1dc98f1e7fe3"
      },
      "outputs": [
        {
          "output_type": "stream",
          "name": "stdout",
          "text": [
            "Index 32 not found in data.\n",
            "Index 260 not found in data.\n",
            "Index 273 not found in data.\n",
            "Index 614 not found in data.\n",
            "Saved PDF: image_peak_only.pdf\n"
          ]
        }
      ],
      "source": [
        "# PDF creation of image only to check spurious source\n",
        "with PdfPages(\"image_peak_only.pdf\") as pdf:\n",
        "    for idx in numbers:\n",
        "        if idx in indices:\n",
        "            i = np.where(indices == idx)[0][0]\n",
        "            img = images[i]\n",
        "            peak = find_peak_coordinates(img)\n",
        "\n",
        "            plt.figure(figsize=(6, 6))\n",
        "            plt.imshow(img, cmap='hot')\n",
        "            plt.plot(peak[1], peak[0], 'gx', markersize=10, label='Image Peak')  # green 'x'\n",
        "            plt.title(f\"Index {idx}\")\n",
        "            plt.axis('off')\n",
        "            pdf.savefig()\n",
        "            plt.close()\n",
        "        else:\n",
        "            print(f\"Index {idx} not found in data.\")\n",
        "\n",
        "print(\"Saved PDF: image_peak_only.pdf\")\n"
      ]
    },
    {
      "cell_type": "code",
      "source": [
        "# PDF creation of overlayed image and heatmap\n",
        "with PdfPages(\"overlayed_images.pdf\") as pdf:\n",
        "    for idx in numbers:\n",
        "        if idx in indices:\n",
        "            i = np.where(indices == idx)[0][0]\n",
        "            img = images[i]\n",
        "            heatmap = heatmaps[i]\n",
        "\n",
        "            plt.figure(figsize=(6, 6))\n",
        "            plt.imshow(img, cmap='hot')\n",
        "            plt.imshow(heatmap, cmap='viridis', alpha=0.5)\n",
        "\n",
        "            img_peak = find_peak_coordinates(img)\n",
        "            heatmap_peak = find_peak_coordinates(heatmap)\n",
        "\n",
        "            plt.plot(img_peak[1], img_peak[0], 'bx', label='Image Peak')\n",
        "            plt.plot(heatmap_peak[1], heatmap_peak[0], 'rx', label='Heatmap Peak')\n",
        "\n",
        "            plt.title(f\"Index {idx}\")\n",
        "            plt.axis('off')\n",
        "            plt.legend(loc='lower right')\n",
        "            pdf.savefig()\n",
        "            plt.close()\n",
        "        else:\n",
        "            print(f\"Index {idx} not found in data.\")\n",
        "\n",
        "print(\"Saved all visualizations to overlayed_images.pdf\")"
      ],
      "metadata": {
        "colab": {
          "base_uri": "https://localhost:8080/"
        },
        "id": "tDTf0qIKevsQ",
        "outputId": "149aba85-e7e7-460b-9394-bfc3563ba862"
      },
      "execution_count": null,
      "outputs": [
        {
          "output_type": "stream",
          "name": "stdout",
          "text": [
            "Index 32 not found in data.\n",
            "Index 260 not found in data.\n",
            "Index 273 not found in data.\n",
            "Index 614 not found in data.\n",
            "Saved all visualizations to overlayed_images.pdf\n"
          ]
        }
      ]
    }
  ]
}