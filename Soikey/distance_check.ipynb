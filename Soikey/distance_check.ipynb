{
  "cells": [
    {
      "cell_type": "code",
      "execution_count": null,
      "metadata": {
        "colab": {
          "base_uri": "https://localhost:8080/",
          "height": 174
        },
        "id": "K37G6QEweYj1",
        "outputId": "f1b2e7db-f279-4dc7-dfb1-9daa46a7b8d4"
      },
      "outputs": [
        {
          "name": "stderr",
          "output_type": "stream",
          "text": [
            "Downloading...\n",
            "From: https://drive.google.com/uc?id=1M0C3dn7_tewI-35YvH2vHdrN3ULHd0AM\n",
            "To: /content/grad_cam.npy\n",
            "100%|██████████| 28.8M/28.8M [00:00<00:00, 32.4MB/s]\n",
            "Downloading...\n",
            "From: https://drive.google.com/uc?id=1s7H1eXU9sjpuC0p-bB0Buhs8ldmFH2J3\n",
            "To: /content/labels_pred.npy\n",
            "100%|██████████| 15.5k/15.5k [00:00<00:00, 31.1MB/s]\n"
          ]
        },
        {
          "data": {
            "application/vnd.google.colaboratory.intrinsic+json": {
              "type": "string"
            },
            "text/plain": [
              "'labels_pred.npy'"
            ]
          },
          "execution_count": 1,
          "metadata": {},
          "output_type": "execute_result"
        }
      ],
      "source": [
        "import pandas as pd\n",
        "import numpy as np\n",
        "import matplotlib.pyplot as plt\n",
        "import gdown\n",
        "\n",
        "# Google Drive direct download URLs\n",
        "data_url = \"https://drive.google.com/uc?id=1M0C3dn7_tewI-35YvH2vHdrN3ULHd0AM\"\n",
        "labels_url = \"https://drive.google.com/uc?id=1s7H1eXU9sjpuC0p-bB0Buhs8ldmFH2J3\"\n",
        "\n",
        "# Download files\n",
        "gdown.download(data_url, \"grad_cam.npy\", quiet=False)\n",
        "gdown.download(labels_url, \"labels_pred.npy\", quiet=False)\n",
        "\n",
        "# Load data\n",
        "# data = np.load(\"grad_cam.npy\")\n",
        "# labels = np.load(\"labels_pred.npy\")\n"
      ]
    },
    {
      "cell_type": "code",
      "execution_count": null,
      "metadata": {
        "id": "aDVfAPnmebTY"
      },
      "outputs": [],
      "source": [
        "def find_peak_coordinates(img):\n",
        "    \"\"\"Returns (row, col) of the maximum value (peak) in the 2D array.\"\"\"\n",
        "    return np.unravel_index(np.argmax(img), img.shape)\n",
        "\n",
        "def calculate_distance(p1, p2):\n",
        "    \"\"\"Returns Euclidean distance between two (row, col) points.\"\"\"\n",
        "    return np.sqrt((p1[0] - p2[0])**2 + (p1[1] - p2[1])**2)\n"
      ]
    },
    {
      "cell_type": "code",
      "execution_count": null,
      "metadata": {
        "id": "0veLPeynegSV"
      },
      "outputs": [],
      "source": [
        "# Load Excel file\n",
        "df = pd.read_excel(\"Distances.xlsx\", index_col=\"index\")\n",
        "\n",
        "# Load data\n",
        "images_data = np.load(\"grad_cam.npy\")\n",
        "labels_data = np.load(\"labels_pred.npy\")\n",
        "\n",
        "# Extract components\n",
        "images = images_data[:, :, :, 0]\n",
        "heatmaps = images_data[:, :, :, 1]\n",
        "indices = labels_data[:, 0].astype(int)  # Ensure it's integer for comparison\n"
      ]
    },
    {
      "cell_type": "code",
      "execution_count": null,
      "metadata": {
        "colab": {
          "base_uri": "https://localhost:8080/"
        },
        "id": "CoMEbMSOli_I",
        "outputId": "88e919e6-d2a0-4a81-a642-00126f1eff55"
      },
      "outputs": [
        {
          "name": "stdout",
          "output_type": "stream",
          "text": [
            "       Dist_imgPeak_to_attnPeak\n",
            "index                          \n",
            "0                     12.369320\n",
            "1                      3.162278\n",
            "2                      5.830952\n",
            "3                     87.132080\n",
            "4                      2.236068\n",
            "Index(['Dist_imgPeak_to_attnPeak'], dtype='object')\n"
          ]
        }
      ],
      "source": [
        "print(df.head())\n",
        "print(df.columns)"
      ]
    },
    {
      "cell_type": "code",
      "execution_count": null,
      "metadata": {
        "colab": {
          "base_uri": "https://localhost:8080/"
        },
        "id": "x1Ae5GNYcqJQ",
        "outputId": "62acc1db-6fa1-457e-9648-41de554e835c"
      },
      "outputs": [
        {
          "name": "stdout",
          "output_type": "stream",
          "text": [
            "585/639 matched\n"
          ]
        }
      ],
      "source": [
        "computed_distances = []\n",
        "match_results = []\n",
        "missing = []\n",
        "\n",
        "for idx in df.index:\n",
        "    if idx in indices:\n",
        "        index = np.where(indices == idx)[0][0]\n",
        "        image = images[index]\n",
        "        heatmap = heatmaps[index]\n",
        "\n",
        "        img_peak = find_peak_coordinates(image)\n",
        "        heatmap_peak = find_peak_coordinates(heatmap)\n",
        "        distance = calculate_distance(img_peak, heatmap_peak)\n",
        "\n",
        "        computed_distances.append(distance)\n",
        "        expected_distance = df.at[idx, \"Dist_imgPeak_to_attnPeak\"]\n",
        "        match_results.append(abs(distance - expected_distance) < 1e-4)\n",
        "    else:\n",
        "        computed_distances.append(None)\n",
        "        match_results.append(False)\n",
        "        missing.append(idx)\n",
        "\n",
        "# Add results to DataFrame\n",
        "df[\"Computed_Distance\"] = computed_distances\n",
        "df[\"Match\"] = match_results\n",
        "\n",
        "\n",
        "# Print summary\n",
        "num_correct = sum(match_results)\n",
        "num_total = len(match_results)\n",
        "print(f\"{num_correct}/{num_total} matched\")\n"
      ]
    },
    {
      "cell_type": "code",
      "execution_count": null,
      "metadata": {
        "colab": {
          "base_uri": "https://localhost:8080/"
        },
        "id": "3W3fmcwrnwBk",
        "outputId": "058856a7-c9c5-4db4-aac2-3813f4dbfeae"
      },
      "outputs": [
        {
          "name": "stdout",
          "output_type": "stream",
          "text": [
            "\n",
            "Results for missing index        Dist_imgPeak_to_attnPeak  Computed_Distance  Match\n",
            "index                                                    \n",
            "273                    16.15549                NaN  False:\n"
          ]
        }
      ],
      "source": [
        "missing_data = df[df[\"Computed_Distance\"].isna()]\n",
        "print(f\"\\nResults for missing index {missing_data}:\")"
      ]
    },
    {
      "cell_type": "code",
      "execution_count": null,
      "metadata": {
        "colab": {
          "base_uri": "https://localhost:8080/",
          "height": 307
        },
        "id": "Kw-28scRhFQz",
        "outputId": "4458bb2f-c88c-4be0-9605-8f5ab9238547"
      },
      "outputs": [
        {
          "name": "stdout",
          "output_type": "stream",
          "text": [
            "Match\n",
            "True     585\n",
            "False     54\n",
            "Name: count, dtype: int64\n"
          ]
        },
        {
          "data": {
            "application/vnd.google.colaboratory.intrinsic+json": {
              "summary": "{\n  \"name\": \"df\",\n  \"rows\": 639,\n  \"fields\": [\n    {\n      \"column\": \"index\",\n      \"properties\": {\n        \"dtype\": \"number\",\n        \"std\": 204,\n        \"min\": 0,\n        \"max\": 702,\n        \"num_unique_values\": 639,\n        \"samples\": [\n          97,\n          387,\n          630\n        ],\n        \"semantic_type\": \"\",\n        \"description\": \"\"\n      }\n    },\n    {\n      \"column\": \"Dist_imgPeak_to_attnPeak\",\n      \"properties\": {\n        \"dtype\": \"number\",\n        \"std\": 21.812788767637272,\n        \"min\": 1.0,\n        \"max\": 178.8994,\n        \"num_unique_values\": 195,\n        \"samples\": [\n          51.62364,\n          2.0,\n          104.8046\n        ],\n        \"semantic_type\": \"\",\n        \"description\": \"\"\n      }\n    },\n    {\n      \"column\": \"Computed_Distance\",\n      \"properties\": {\n        \"dtype\": \"number\",\n        \"std\": 21.82643649538557,\n        \"min\": 1.0,\n        \"max\": 178.89941307897016,\n        \"num_unique_values\": 195,\n        \"samples\": [\n          51.62363799656123,\n          2.0,\n          104.80458005259122\n        ],\n        \"semantic_type\": \"\",\n        \"description\": \"\"\n      }\n    },\n    {\n      \"column\": \"Match\",\n      \"properties\": {\n        \"dtype\": \"boolean\",\n        \"num_unique_values\": 2,\n        \"samples\": [\n          false,\n          true\n        ],\n        \"semantic_type\": \"\",\n        \"description\": \"\"\n      }\n    }\n  ]\n}",
              "type": "dataframe",
              "variable_name": "df"
            },
            "text/html": [
              "\n",
              "  <div id=\"df-cac6c508-5a6a-4ce2-9aef-f2869842ed8b\" class=\"colab-df-container\">\n",
              "    <div>\n",
              "<style scoped>\n",
              "    .dataframe tbody tr th:only-of-type {\n",
              "        vertical-align: middle;\n",
              "    }\n",
              "\n",
              "    .dataframe tbody tr th {\n",
              "        vertical-align: top;\n",
              "    }\n",
              "\n",
              "    .dataframe thead th {\n",
              "        text-align: right;\n",
              "    }\n",
              "</style>\n",
              "<table border=\"1\" class=\"dataframe\">\n",
              "  <thead>\n",
              "    <tr style=\"text-align: right;\">\n",
              "      <th></th>\n",
              "      <th>Dist_imgPeak_to_attnPeak</th>\n",
              "      <th>Computed_Distance</th>\n",
              "      <th>Match</th>\n",
              "    </tr>\n",
              "    <tr>\n",
              "      <th>index</th>\n",
              "      <th></th>\n",
              "      <th></th>\n",
              "      <th></th>\n",
              "    </tr>\n",
              "  </thead>\n",
              "  <tbody>\n",
              "    <tr>\n",
              "      <th>0</th>\n",
              "      <td>12.369320</td>\n",
              "      <td>12.369317</td>\n",
              "      <td>True</td>\n",
              "    </tr>\n",
              "    <tr>\n",
              "      <th>1</th>\n",
              "      <td>3.162278</td>\n",
              "      <td>3.162278</td>\n",
              "      <td>True</td>\n",
              "    </tr>\n",
              "    <tr>\n",
              "      <th>2</th>\n",
              "      <td>5.830952</td>\n",
              "      <td>5.830952</td>\n",
              "      <td>True</td>\n",
              "    </tr>\n",
              "    <tr>\n",
              "      <th>3</th>\n",
              "      <td>87.132080</td>\n",
              "      <td>87.132084</td>\n",
              "      <td>True</td>\n",
              "    </tr>\n",
              "    <tr>\n",
              "      <th>4</th>\n",
              "      <td>2.236068</td>\n",
              "      <td>2.236068</td>\n",
              "      <td>True</td>\n",
              "    </tr>\n",
              "  </tbody>\n",
              "</table>\n",
              "</div>\n",
              "    <div class=\"colab-df-buttons\">\n",
              "\n",
              "  <div class=\"colab-df-container\">\n",
              "    <button class=\"colab-df-convert\" onclick=\"convertToInteractive('df-cac6c508-5a6a-4ce2-9aef-f2869842ed8b')\"\n",
              "            title=\"Convert this dataframe to an interactive table.\"\n",
              "            style=\"display:none;\">\n",
              "\n",
              "  <svg xmlns=\"http://www.w3.org/2000/svg\" height=\"24px\" viewBox=\"0 -960 960 960\">\n",
              "    <path d=\"M120-120v-720h720v720H120Zm60-500h600v-160H180v160Zm220 220h160v-160H400v160Zm0 220h160v-160H400v160ZM180-400h160v-160H180v160Zm440 0h160v-160H620v160ZM180-180h160v-160H180v160Zm440 0h160v-160H620v160Z\"/>\n",
              "  </svg>\n",
              "    </button>\n",
              "\n",
              "  <style>\n",
              "    .colab-df-container {\n",
              "      display:flex;\n",
              "      gap: 12px;\n",
              "    }\n",
              "\n",
              "    .colab-df-convert {\n",
              "      background-color: #E8F0FE;\n",
              "      border: none;\n",
              "      border-radius: 50%;\n",
              "      cursor: pointer;\n",
              "      display: none;\n",
              "      fill: #1967D2;\n",
              "      height: 32px;\n",
              "      padding: 0 0 0 0;\n",
              "      width: 32px;\n",
              "    }\n",
              "\n",
              "    .colab-df-convert:hover {\n",
              "      background-color: #E2EBFA;\n",
              "      box-shadow: 0px 1px 2px rgba(60, 64, 67, 0.3), 0px 1px 3px 1px rgba(60, 64, 67, 0.15);\n",
              "      fill: #174EA6;\n",
              "    }\n",
              "\n",
              "    .colab-df-buttons div {\n",
              "      margin-bottom: 4px;\n",
              "    }\n",
              "\n",
              "    [theme=dark] .colab-df-convert {\n",
              "      background-color: #3B4455;\n",
              "      fill: #D2E3FC;\n",
              "    }\n",
              "\n",
              "    [theme=dark] .colab-df-convert:hover {\n",
              "      background-color: #434B5C;\n",
              "      box-shadow: 0px 1px 3px 1px rgba(0, 0, 0, 0.15);\n",
              "      filter: drop-shadow(0px 1px 2px rgba(0, 0, 0, 0.3));\n",
              "      fill: #FFFFFF;\n",
              "    }\n",
              "  </style>\n",
              "\n",
              "    <script>\n",
              "      const buttonEl =\n",
              "        document.querySelector('#df-cac6c508-5a6a-4ce2-9aef-f2869842ed8b button.colab-df-convert');\n",
              "      buttonEl.style.display =\n",
              "        google.colab.kernel.accessAllowed ? 'block' : 'none';\n",
              "\n",
              "      async function convertToInteractive(key) {\n",
              "        const element = document.querySelector('#df-cac6c508-5a6a-4ce2-9aef-f2869842ed8b');\n",
              "        const dataTable =\n",
              "          await google.colab.kernel.invokeFunction('convertToInteractive',\n",
              "                                                    [key], {});\n",
              "        if (!dataTable) return;\n",
              "\n",
              "        const docLinkHtml = 'Like what you see? Visit the ' +\n",
              "          '<a target=\"_blank\" href=https://colab.research.google.com/notebooks/data_table.ipynb>data table notebook</a>'\n",
              "          + ' to learn more about interactive tables.';\n",
              "        element.innerHTML = '';\n",
              "        dataTable['output_type'] = 'display_data';\n",
              "        await google.colab.output.renderOutput(dataTable, element);\n",
              "        const docLink = document.createElement('div');\n",
              "        docLink.innerHTML = docLinkHtml;\n",
              "        element.appendChild(docLink);\n",
              "      }\n",
              "    </script>\n",
              "  </div>\n",
              "\n",
              "\n",
              "<div id=\"df-b401fc46-2adc-476c-a410-7cc7d8a6d811\">\n",
              "  <button class=\"colab-df-quickchart\" onclick=\"quickchart('df-b401fc46-2adc-476c-a410-7cc7d8a6d811')\"\n",
              "            title=\"Suggest charts\"\n",
              "            style=\"display:none;\">\n",
              "\n",
              "<svg xmlns=\"http://www.w3.org/2000/svg\" height=\"24px\"viewBox=\"0 0 24 24\"\n",
              "     width=\"24px\">\n",
              "    <g>\n",
              "        <path d=\"M19 3H5c-1.1 0-2 .9-2 2v14c0 1.1.9 2 2 2h14c1.1 0 2-.9 2-2V5c0-1.1-.9-2-2-2zM9 17H7v-7h2v7zm4 0h-2V7h2v10zm4 0h-2v-4h2v4z\"/>\n",
              "    </g>\n",
              "</svg>\n",
              "  </button>\n",
              "\n",
              "<style>\n",
              "  .colab-df-quickchart {\n",
              "      --bg-color: #E8F0FE;\n",
              "      --fill-color: #1967D2;\n",
              "      --hover-bg-color: #E2EBFA;\n",
              "      --hover-fill-color: #174EA6;\n",
              "      --disabled-fill-color: #AAA;\n",
              "      --disabled-bg-color: #DDD;\n",
              "  }\n",
              "\n",
              "  [theme=dark] .colab-df-quickchart {\n",
              "      --bg-color: #3B4455;\n",
              "      --fill-color: #D2E3FC;\n",
              "      --hover-bg-color: #434B5C;\n",
              "      --hover-fill-color: #FFFFFF;\n",
              "      --disabled-bg-color: #3B4455;\n",
              "      --disabled-fill-color: #666;\n",
              "  }\n",
              "\n",
              "  .colab-df-quickchart {\n",
              "    background-color: var(--bg-color);\n",
              "    border: none;\n",
              "    border-radius: 50%;\n",
              "    cursor: pointer;\n",
              "    display: none;\n",
              "    fill: var(--fill-color);\n",
              "    height: 32px;\n",
              "    padding: 0;\n",
              "    width: 32px;\n",
              "  }\n",
              "\n",
              "  .colab-df-quickchart:hover {\n",
              "    background-color: var(--hover-bg-color);\n",
              "    box-shadow: 0 1px 2px rgba(60, 64, 67, 0.3), 0 1px 3px 1px rgba(60, 64, 67, 0.15);\n",
              "    fill: var(--button-hover-fill-color);\n",
              "  }\n",
              "\n",
              "  .colab-df-quickchart-complete:disabled,\n",
              "  .colab-df-quickchart-complete:disabled:hover {\n",
              "    background-color: var(--disabled-bg-color);\n",
              "    fill: var(--disabled-fill-color);\n",
              "    box-shadow: none;\n",
              "  }\n",
              "\n",
              "  .colab-df-spinner {\n",
              "    border: 2px solid var(--fill-color);\n",
              "    border-color: transparent;\n",
              "    border-bottom-color: var(--fill-color);\n",
              "    animation:\n",
              "      spin 1s steps(1) infinite;\n",
              "  }\n",
              "\n",
              "  @keyframes spin {\n",
              "    0% {\n",
              "      border-color: transparent;\n",
              "      border-bottom-color: var(--fill-color);\n",
              "      border-left-color: var(--fill-color);\n",
              "    }\n",
              "    20% {\n",
              "      border-color: transparent;\n",
              "      border-left-color: var(--fill-color);\n",
              "      border-top-color: var(--fill-color);\n",
              "    }\n",
              "    30% {\n",
              "      border-color: transparent;\n",
              "      border-left-color: var(--fill-color);\n",
              "      border-top-color: var(--fill-color);\n",
              "      border-right-color: var(--fill-color);\n",
              "    }\n",
              "    40% {\n",
              "      border-color: transparent;\n",
              "      border-right-color: var(--fill-color);\n",
              "      border-top-color: var(--fill-color);\n",
              "    }\n",
              "    60% {\n",
              "      border-color: transparent;\n",
              "      border-right-color: var(--fill-color);\n",
              "    }\n",
              "    80% {\n",
              "      border-color: transparent;\n",
              "      border-right-color: var(--fill-color);\n",
              "      border-bottom-color: var(--fill-color);\n",
              "    }\n",
              "    90% {\n",
              "      border-color: transparent;\n",
              "      border-bottom-color: var(--fill-color);\n",
              "    }\n",
              "  }\n",
              "</style>\n",
              "\n",
              "  <script>\n",
              "    async function quickchart(key) {\n",
              "      const quickchartButtonEl =\n",
              "        document.querySelector('#' + key + ' button');\n",
              "      quickchartButtonEl.disabled = true;  // To prevent multiple clicks.\n",
              "      quickchartButtonEl.classList.add('colab-df-spinner');\n",
              "      try {\n",
              "        const charts = await google.colab.kernel.invokeFunction(\n",
              "            'suggestCharts', [key], {});\n",
              "      } catch (error) {\n",
              "        console.error('Error during call to suggestCharts:', error);\n",
              "      }\n",
              "      quickchartButtonEl.classList.remove('colab-df-spinner');\n",
              "      quickchartButtonEl.classList.add('colab-df-quickchart-complete');\n",
              "    }\n",
              "    (() => {\n",
              "      let quickchartButtonEl =\n",
              "        document.querySelector('#df-b401fc46-2adc-476c-a410-7cc7d8a6d811 button');\n",
              "      quickchartButtonEl.style.display =\n",
              "        google.colab.kernel.accessAllowed ? 'block' : 'none';\n",
              "    })();\n",
              "  </script>\n",
              "</div>\n",
              "\n",
              "    </div>\n",
              "  </div>\n"
            ],
            "text/plain": [
              "       Dist_imgPeak_to_attnPeak  Computed_Distance  Match\n",
              "index                                                    \n",
              "0                     12.369320          12.369317   True\n",
              "1                      3.162278           3.162278   True\n",
              "2                      5.830952           5.830952   True\n",
              "3                     87.132080          87.132084   True\n",
              "4                      2.236068           2.236068   True"
            ]
          },
          "execution_count": 32,
          "metadata": {},
          "output_type": "execute_result"
        }
      ],
      "source": [
        "# print(df[df[\"Match\"]==\"False\"])\n",
        "print(df[\"Match\"].value_counts())\n",
        "df.head()"
      ]
    },
    {
      "cell_type": "code",
      "execution_count": null,
      "metadata": {
        "colab": {
          "base_uri": "https://localhost:8080/"
        },
        "id": "9TAzxg0VkmD1",
        "outputId": "1cc3bce5-d064-485d-9444-aa2509b60535"
      },
      "outputs": [
        {
          "name": "stdout",
          "output_type": "stream",
          "text": [
            "       Dist_imgPeak_to_attnPeak  Computed_Distance  Match\n",
            "index                                                    \n",
            "214                    4.123106           6.324555  False\n",
            "215                    6.324555           4.123106  False\n",
            "216                    4.123106           2.828427  False\n",
            "217                    2.828427           9.055385  False\n",
            "218                    9.055385           4.242641  False\n",
            "219                    4.242641           5.000000  False\n",
            "220                    5.000000          23.537205  False\n",
            "221                   23.537200           5.000000  False\n",
            "222                    5.000000           4.242641  False\n",
            "223                    4.242641           2.236068  False\n",
            "224                    2.236068          15.811388  False\n",
            "225                   15.811390           2.828427  False\n",
            "226                    2.828427           5.830952  False\n",
            "227                    5.830952           5.385165  False\n",
            "228                    5.385165          11.180340  False\n",
            "229                   11.180340           4.000000  False\n",
            "230                    4.000000          12.041595  False\n",
            "231                   12.041590           4.123106  False\n",
            "232                    4.123106           1.000000  False\n",
            "233                    1.000000           1.414214  False\n",
            "234                    1.414214          94.403390  False\n",
            "235                   94.403390           1.000000  False\n",
            "236                    1.000000           7.211103  False\n",
            "237                    7.211103           2.236068  False\n",
            "238                    2.236068           1.000000  False\n",
            "240                    1.000000           5.385165  False\n",
            "241                    5.385165           4.472136  False\n",
            "242                    4.472136           2.236068  False\n",
            "243                    2.236068           4.472136  False\n",
            "245                    4.472136           8.246211  False\n",
            "246                    8.246211          15.811388  False\n",
            "247                   15.811390           3.162278  False\n",
            "249                    3.162278           5.099020  False\n",
            "250                    5.099020           3.000000  False\n",
            "251                    3.000000          26.248809  False\n",
            "253                   26.248810          38.948684  False\n",
            "254                   38.948680           3.605551  False\n",
            "255                    3.605551           9.486833  False\n",
            "256                    9.486833           4.472136  False\n",
            "258                    4.472136           5.000000  False\n",
            "259                    5.000000           3.162278  False\n",
            "261                    3.162278          72.449983  False\n",
            "262                   72.449980           4.472136  False\n",
            "263                    4.472136           3.000000  False\n",
            "264                    3.000000           5.000000  False\n",
            "265                    5.000000           3.162278  False\n",
            "266                    3.162278           4.123106  False\n",
            "267                    4.123106           1.414214  False\n",
            "268                    1.414214          10.198039  False\n",
            "269                   10.198040           3.000000  False\n",
            "270                    3.000000           1.414214  False\n",
            "271                    1.414214           3.162278  False\n",
            "272                    3.162278          16.155494  False\n",
            "273                   16.155490                NaN  False\n"
          ]
        }
      ],
      "source": [
        "mismatches = df[~df[\"Match\"]]\n",
        "print(mismatches)"
      ]
    },
    {
      "cell_type": "code",
      "execution_count": null,
      "metadata": {
        "id": "5ScIpy6XgrKn"
      },
      "outputs": [],
      "source": [
        "# Save results\n",
        "df.to_excel(\"Distances_Comparison.xlsx\", index=False)\n"
      ]
    }
  ],
  "metadata": {
    "colab": {
      "provenance": []
    },
    "kernelspec": {
      "display_name": "Python 3",
      "name": "python3"
    },
    "language_info": {
      "name": "python"
    }
  },
  "nbformat": 4,
  "nbformat_minor": 0
}